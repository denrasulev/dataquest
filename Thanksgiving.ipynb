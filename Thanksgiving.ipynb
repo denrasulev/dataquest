{
  "cells": [
    {
      "cell_type": "markdown",
      "source": [
        "# US Thanksgiving Dinner Data Exploration\n",
        "In this project, we'll be working with Jupyter notebook and analyzing data on Thanksgiving dinner in the US."
      ],
      "metadata": {}
    },
    {
      "cell_type": "code",
      "source": [
        "import pandas as pd\n",
        "data = pd.read_csv('data/thanksgiving.csv', encoding='Latin-1')\n",
        "print(data.head(5))\n",
        "print(data.columns)"
      ],
      "outputs": [],
      "execution_count": null,
      "metadata": {
        "collapsed": false,
        "outputHidden": false,
        "inputHidden": false
      }
    },
    {
      "cell_type": "code",
      "source": [
        "# what answers are available for this question?\n",
        "column = 'Do you celebrate Thanksgiving?'\n",
        "x = data[column].value_counts()\n",
        "print(x)\n",
        "\n",
        "# find only those who celebrate Thanksgiving (i.e., answer is 'Yes')\n",
        "data = data[data['Do you celebrate Thanksgiving?'] == 'Yes']"
      ],
      "outputs": [],
      "execution_count": null,
      "metadata": {
        "collapsed": false,
        "outputHidden": false,
        "inputHidden": false
      }
    },
    {
      "cell_type": "code",
      "source": [
        "# what kind of main dishes people have for dinner?\n",
        "column = 'What is typically the main dish at your Thanksgiving dinner?'\n",
        "x = data[column].value_counts()\n",
        "print(x)"
      ],
      "outputs": [],
      "execution_count": null,
      "metadata": {
        "collapsed": false,
        "outputHidden": false,
        "inputHidden": false
      }
    },
    {
      "cell_type": "code",
      "source": [
        "# do those who have 'tofurkey' as main dish, have groovy?\n",
        "column1 = 'What is typically the main dish at your Thanksgiving dinner?'\n",
        "column2 = 'Do you typically have gravy?'\n",
        "newdata = data[data[column1] == 'Tofurkey']\n",
        "print(newdata[column2])"
      ],
      "outputs": [],
      "execution_count": null,
      "metadata": {
        "collapsed": false,
        "outputHidden": false,
        "inputHidden": false
      }
    },
    {
      "cell_type": "code",
      "source": [
        "# how many people eat Apple, Pecan or Pumpkin pie during Thanksgiving dinner\n",
        "apple_column   = 'Which type of pie is typically served at your Thanksgiving dinner? Please select all that apply. - Apple'\n",
        "pecan_column   = 'Which type of pie is typically served at your Thanksgiving dinner? Please select all that apply. - Pecan'\n",
        "pumpkin_column = 'Which type of pie is typically served at your Thanksgiving dinner? Please select all that apply. - Pumpkin'\n",
        "\n",
        "apple_isnull   = data[apple_column].isnull()\n",
        "pecan_isnull   = data[pecan_column].isnull()\n",
        "pumpkin_isnull = data[pumpkin_column].isnull()\n",
        "\n",
        "ate_pies = apple_isnull & pecan_isnull & pumpkin_isnull\n",
        "print(ate_pies.value_counts())\n",
        "'''\n",
        "False means that a person ate at least one of the types of pies\n",
        "True means that they ate none of the types of pies\n",
        "-\n",
        "False    876\n",
        "True     104\n",
        "'''"
      ],
      "outputs": [],
      "execution_count": null,
      "metadata": {
        "collapsed": false,
        "outputHidden": false,
        "inputHidden": false
      }
    },
    {
      "cell_type": "code",
      "source": [
        "# Converting Age To Numeric\n",
        "def str_to_int(value):\n",
        "    if pd.isnull(value):\n",
        "        return None\n",
        "    value = value.replace(\"+\", \" \")\n",
        "    value = value.split(\" \")[0]\n",
        "    return(int(value))\n",
        "\n",
        "data['int_age'] = data['Age'].apply(str_to_int)\n",
        "print(data['int_age'].describe())"
      ],
      "outputs": [],
      "execution_count": null,
      "metadata": {
        "collapsed": false,
        "outputHidden": false,
        "inputHidden": false
      }
    },
    {
      "cell_type": "markdown",
      "source": [
        "### Main findings:\n",
        "- Mean age is 40.09 years old.\n",
        "- Deviation is +/- 15 years.\n",
        "- Minimal age is 18 yo\n",
        "- Maximum age is 60 yo"
      ],
      "metadata": {}
    },
    {
      "cell_type": "code",
      "source": [
        "# Converting Income To Numeric\n",
        "def inc_to_num(value):\n",
        "    if pd.isnull(value):\n",
        "        return None\n",
        "    elif value == \"$200,000 and up\":\n",
        "        return 200000\n",
        "    elif value == \"Prefer not to answer\":\n",
        "        return None\n",
        "    value = value.replace(\"$\", \"\").replace(\",\", \"\")\n",
        "    value = value.split(\" \")[0]\n",
        "    return(int(value))\n",
        "\n",
        "column = 'How much total combined money did all members of your HOUSEHOLD earn last year?'\n",
        "data['int_income'] = data[column].apply(inc_to_num)\n",
        "print(data['int_income'].describe())"
      ],
      "outputs": [],
      "execution_count": null,
      "metadata": {
        "collapsed": false,
        "outputHidden": false,
        "inputHidden": false
      }
    },
    {
      "cell_type": "markdown",
      "source": [
        "### Main findings:\n",
        "- Mean income is 75965 US Dollars.\n",
        "- Deviation is +/- 59068 US Dollars.\n",
        "- Minimal income is 0\n",
        "- Maximum income is 200000"
      ],
      "metadata": {}
    },
    {
      "cell_type": "code",
      "source": [
        "# Correlating Travel Distance And Income\n",
        "newdata = data[data['int_income'] < 150000]\n",
        "newdata['How far will you travel for Thanksgiving?'].value_counts()\n",
        "\n",
        "newdata = data[data['int_income'] > 150000]\n",
        "newdata['How far will you travel for Thanksgiving?'].value_counts()"
      ],
      "outputs": [],
      "execution_count": null,
      "metadata": {}
    },
    {
      "cell_type": "markdown",
      "source": [
        "### Main findings:\n",
        "- We've reviewed travel preferences of two categories:\n",
        "  - People with income < 150000 USD / year\n",
        "  - People with income > 150000 USD / year\n",
        "- Majority of people in both categories do not like to travel at all\n",
        "- Do not think there is any strong correlation here"
      ],
      "metadata": {}
    },
    {
      "cell_type": "code",
      "source": [
        "# Linking Friendship And Age\n",
        "column1 = 'Have you ever tried to meet up with hometown friends on Thanksgiving night?'\n",
        "column2 = 'Have you ever attended a \"Friendsgiving?\"'\n",
        "\n",
        "# pivot table showing the average age of respondents for each category\n",
        "table = data.pivot_table(values='int_age', index=column1, columns=column2)\n",
        "table"
      ],
      "outputs": [],
      "execution_count": null,
      "metadata": {}
    },
    {
      "cell_type": "code",
      "source": [
        "# pivot table showing the average income of respondents for each category\n",
        "table = data.pivot_table(values='int_income', index=column1, columns=column2)\n",
        "table"
      ],
      "outputs": [],
      "execution_count": null,
      "metadata": {
        "collapsed": false,
        "outputHidden": false,
        "inputHidden": false
      }
    },
    {
      "cell_type": "markdown",
      "source": [
        "### Main findings:\n",
        "\nAccording to the age and income bin analysis, those who have not been to \"FG\", have higher incomes on average. Those who have been to \"FG\" and who have tried to meet up with home town friends, have lower incomes on average. This really only suggests that lower income people are more likely to answer \"Yes\" to both questions than those who answer \"No\" to either."
      ],
      "metadata": {}
    },
    {
      "cell_type": "markdown",
      "source": [
        "### Some potential next steps:\n",
        "\n",
        "- Figure out the most common dessert people eat.\n",
        "- Figure out the most common complete meal people eat.\n",
        "- Identify how many people work on Thanksgiving.\n",
        "- Find regional patterns in the dinner menus.\n",
        "- Find age, gender, and income based patterns in dinner menus."
      ],
      "metadata": {}
    },
    {
      "cell_type": "code",
      "source": [],
      "outputs": [],
      "execution_count": null,
      "metadata": {
        "collapsed": false,
        "outputHidden": false,
        "inputHidden": false
      }
    }
  ],
  "metadata": {
    "kernelspec": {
      "name": "python2",
      "language": "python",
      "display_name": "Python 2"
    },
    "kernel_info": {
      "name": "python2"
    },
    "language_info": {
      "mimetype": "text/x-python",
      "nbconvert_exporter": "python",
      "name": "python",
      "pygments_lexer": "ipython2",
      "version": "2.7.12",
      "file_extension": ".py",
      "codemirror_mode": {
        "version": 2,
        "name": "ipython"
      }
    }
  },
  "nbformat": 4,
  "nbformat_minor": 4
}