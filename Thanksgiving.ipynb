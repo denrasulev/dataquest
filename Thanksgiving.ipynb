{
  "cells": [
    {
      "cell_type": "markdown",
      "source": [
        "# US Thanksgiving Dinner Data Exploration\n",
        "In this project, we'll be working with Jupyter notebook and analyzing data on Thanksgiving dinner in the US."
      ],
      "metadata": {}
    },
    {
      "cell_type": "code",
      "source": [
        "import pandas as pd\n",
        "data = pd.read_csv('thanksgiving.csv', encoding='Latin-1')\n",
        "print(data.head(5))\n",
        "print(data.columns)"
      ],
      "outputs": [],
      "execution_count": null,
      "metadata": {
        "collapsed": false,
        "outputHidden": false,
        "inputHidden": false
      }
    },
    {
      "cell_type": "code",
      "source": [
        "# what answers are available for this question?\n",
        "column = 'Do you celebrate Thanksgiving?'\n",
        "x = data[column].value_counts()\n",
        "print(x)\n",
        "\n",
        "# find only those who celebrate Thanksgiving (i.e., answer is 'Yes')\n",
        "data = data[data['Do you celebrate Thanksgiving?'] == 'Yes']"
      ],
      "outputs": [],
      "execution_count": null,
      "metadata": {
        "collapsed": false,
        "outputHidden": false,
        "inputHidden": false
      }
    },
    {
      "cell_type": "code",
      "source": [
        "# what kind of main dishes people have for dinner?\n",
        "column = 'What is typically the main dish at your Thanksgiving dinner?'\n",
        "x = data[column].value_counts()\n",
        "print(x)"
      ],
      "outputs": [],
      "execution_count": null,
      "metadata": {
        "collapsed": false,
        "outputHidden": false,
        "inputHidden": false
      }
    },
    {
      "cell_type": "code",
      "source": [
        "# do those who have 'tofurkey' as main dish, have groovy?\n",
        "column1 = 'What is typically the main dish at your Thanksgiving dinner?'\n",
        "column2 = 'Do you typically have gravy?'\n",
        "newdata = data[data[column1] == 'Tofurkey']\n",
        "print(newdata[column2])"
      ],
      "outputs": [],
      "execution_count": null,
      "metadata": {
        "collapsed": false,
        "outputHidden": false,
        "inputHidden": false
      }
    },
    {
      "cell_type": "code",
      "source": [
        "# how many people eat Apple, Pecan or Pumpkin pie during Thanksgiving dinner\n"
      ],
      "outputs": [],
      "execution_count": null,
      "metadata": {
        "collapsed": false,
        "outputHidden": false,
        "inputHidden": false
      }
    }
  ],
  "metadata": {
    "kernelspec": {
      "name": "python2",
      "language": "python",
      "display_name": "Python 2"
    },
    "kernel_info": {
      "name": "python2"
    },
    "language_info": {
      "mimetype": "text/x-python",
      "nbconvert_exporter": "python",
      "name": "python",
      "pygments_lexer": "ipython2",
      "version": "2.7.12",
      "file_extension": ".py",
      "codemirror_mode": {
        "version": 2,
        "name": "ipython"
      }
    }
  },
  "nbformat": 4,
  "nbformat_minor": 4
}
