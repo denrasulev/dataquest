{
  "cells": [
    {
      "cell_type": "markdown",
      "source": [
        "# Visualizing Earnings Based On College Majors\n",
        "\n",
        "In this project, we'll explore how using the pandas plotting functionality along with the Jupyter notebook interface allows us to explore data quickly using visualizations.\n",
        "\n",
        "We'll be working with a dataset on the job outcomes of students who graduated from college between 2010 and 2012. The original data on job outcomes was released by [American Community Survey](https://www.census.gov/programs-surveys/acs/), which conducts surveys and aggregates the data. FiveThirtyEight cleaned the dataset and released it on their [Github repo](https://github.com/fivethirtyeight/data/tree/master/college-majors).\n",
        "\n",
        "Each row in the dataset represents a different major in college and contains information on gender diversity, employment rates, median salaries, and more. Here are some of the columns in the dataset:\n",
        "\n",
        "- **Rank** - Rank by median earnings (the dataset is ordered by this column).\n",
        "- **Major_code** - Major code.\n",
        "- **Major** - Major description.\n",
        "- **Major_category** - Category of major.\n",
        "- **Total** - Total number of people with major.\n",
        "- **Sample_size** - Sample size (unweighted) of full-time.\n",
        "- **Men** - Male graduates.\n",
        "- **Women** - Female graduates.\n",
        "- **ShareWomen** - Women as share of total.\n",
        "- **Employed** - Number employed.\n",
        "- **Median** - Median salary of full-time, year-round workers.\n",
        "- **Low_wage_jobs** - Number in low-wage service jobs.\n",
        "- **Full_time** - Number employed 35 hours or more.\n",
        "- **Part_time** - Number employed less than 36 hours.\n",
        "\n",
        "Using visualizations, we can start to explore questions from the dataset like:\n",
        "\n",
        "- Do students in more popular majors make more money?\n",
        "  - Using scatter plots\n",
        "- How many majors are predominantly male? Predominantly female?\n",
        "  - Using histograms\n",
        "- Which category of majors have the most students?\n",
        "  - Using bar plots\n",
        "\nWe'll explore how to do these and more while primarily working in pandas. Before we start creating data visualizations, let's import the libraries we need and remove rows containing null values."
      ],
      "metadata": {}
    },
    {
      "cell_type": "code",
      "source": [],
      "outputs": [],
      "execution_count": null,
      "metadata": {
        "collapsed": false,
        "outputHidden": false,
        "inputHidden": false
      }
    }
  ],
  "metadata": {
    "kernelspec": {
      "name": "python2",
      "language": "python",
      "display_name": "Python 2"
    },
    "kernel_info": {
      "name": "python2"
    },
    "language_info": {
      "mimetype": "text/x-python",
      "nbconvert_exporter": "python",
      "name": "python",
      "pygments_lexer": "ipython2",
      "version": "2.7.12",
      "file_extension": ".py",
      "codemirror_mode": {
        "version": 2,
        "name": "ipython"
      }
    }
  },
  "nbformat": 4,
  "nbformat_minor": 4
}