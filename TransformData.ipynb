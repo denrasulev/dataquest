{
  "cells": [
    {
      "cell_type": "markdown",
      "source": [
        "# Transforming Data\n",
        "In this project, you'll be working with a dataset of submissions to [Hacker News](http://news.ycombinator.com/) from 2006 to 2015.\n",
        "\n",
        "The dataset you'll be using was compiled by Arnaud Drizard using the Hacker News API, and can be found [here](https://github.com/arnauddri/hn). We've sampled 10000 rows from the data randomly, and removed all extraneous columns. Our dataset only has four columns:\n",
        "\n",
        "- **submission_time** - when the story was submitted.\n",
        "- **upvotes** - number of upvotes the submission got.\n",
        "- **url** - the base domain of the submission.\n",
        "- **headline** - the headline of the submission. Users can edit this, and it doesn't have to match the headline of the original article.\n",
        "\n",
        "We'll be writing scripts to answer some questions:\n",
        "\n",
        "- What words appear most often in the headlines?\n",
        "- What domains were submitted most often to Hacker News?\n",
        "- At what times are the most articles submitted?"
      ],
      "metadata": {
        "collapsed": false,
        "outputHidden": false,
        "inputHidden": false
      }
    },
    {
      "cell_type": "markdown",
      "source": [
        "## Reading The Data"
      ],
      "metadata": {}
    },
    {
      "cell_type": "code",
      "source": [
        "# -*- coding: utf-8 -*-\n",
        "\n",
        "'''\n",
        "Code to load data for DataQuest Guided Project on Transforming Data\n",
        "Reads in 'hn_stories.csv' file and adds four columns.\n",
        "'''\n",
        "\n",
        "import pandas as pd\n",
        "\n",
        "def load_data():\n",
        "    '''Reads data file in and adds four columns'''\n",
        "    hn_stories = pd.read_csv('data/hn_stories.csv')\n",
        "    hn_stories.columns = ['submission_time', 'upvotes', 'url', 'headline']\n",
        "    return hn_stories\n",
        "\n",
        "if __name__ == \"__main__\":\n",
        "    STOR = load_data()\n",
        "    stor1 = load_data() # pylint: disable=locally-disabled, invalid-name\n",
        "    print STOR, stor1"
      ],
      "outputs": [],
      "execution_count": 3,
      "metadata": {
        "collapsed": false,
        "outputHidden": false,
        "inputHidden": false
      }
    },
    {
      "cell_type": "code",
      "source": [
        "from collections import Counter\n",
        "\n",
        "df = load_data()\n",
        "headlines = df.headline\n",
        "\n",
        "headline_list = \"\"\n",
        "for i in range(len(headlines)):\n",
        "    headline_list += str(headlines[i]).strip(\"!@^&*():;<>,.?/[]{}+=|-_ \") + \" \"\n",
        "headline_list = headline_list.lower()\n",
        "headline_list = headline_list.split(\" \")\n",
        "\n",
        "headline_clean = []\n",
        "for i in range(len(headline_list)):\n",
        "    if headline_list[i] in \"!@^&*():;<>,.?/[]{}+=|-_ \":\n",
        "        pass\n",
        "    else:\n",
        "        headline_clean.append(headline_list[i])\n",
        "\n",
        "headline_dict = Counter(headline_clean)\n",
        "headline_count_list = sorted(headline_dict, key=headline_dict.get, reverse=True)\n",
        "print(headline_count_list[:100])"
      ],
      "outputs": [
        {
          "output_type": "stream",
          "name": "stdout",
          "text": [
            "['the', 'to', 'a', 'of', 'for', 'in', 'and', 'is', 'on', 'with', 'hn:', 'how', 'your', 'you', 'ask', 'from', 'google', 'new', 'why', 'what', 'an', 'are', 'by', 'at', 'show', 'it', 'web', 'do', 'app', '\\xe2\\x80\\x93', 'i', 'not', 'that', 'as', 'data', 'be', 'startup', 'about', 'facebook', 'my', 'free', 'using', 'apple', 'online', 'get', 'can', 'open', 'android', 'this', 'will', 'out', 'now', 'we', 'its', 'up', 'code', 'best', 'video', 'one', 'have', 'or', 'software', 'twitter', 'more', 'first', 'iphone', 'all', 'make', 'should', 'internet', 'us', 'social', 'mobile', 'use', 'design', 'has', 'world', 'apps', 'business', 'just', '5', 'cloud', 'source', 'into', 'like', 'api', 'top', 'javascript', 'tech', 'programming', 'company', 'windows', 'project', 'when', 'time', 'future', 'game', 'ios', 'news', 'live']\n"
          ]
        }
      ],
      "execution_count": 4,
      "metadata": {
        "collapsed": false,
        "outputHidden": false,
        "inputHidden": false
      }
    },
    {
      "cell_type": "code",
      "source": [
        "from dateutil.parser import parse\n",
        "\n",
        "def extract_hour(x):\n",
        "    return parse(x).hour\n",
        "\n",
        "def extract_day(x):\n",
        "    return parse(x).day\n",
        "\n",
        "df    = read.load_data()\n",
        "times = df.submission_time\n",
        "    \n",
        "df['submission_hour'] = times.apply(lambda x: extract_hour(x))\n",
        "sub_hour = df.submission_hour\n",
        "sub_hour_counts = sub_hour.value_counts()\n",
        "print(sub_hour_counts[:8])\n",
        "\n",
        "df['submission_day'] = times.apply(lambda x: extract_day(x))\n",
        "sub_day = df.submission_day\n",
        "sub_day_counts = sub_day.value_counts()\n",
        "print(sub_day_counts[:8])"
      ],
      "outputs": [],
      "execution_count": null,
      "metadata": {
        "collapsed": false,
        "outputHidden": false,
        "inputHidden": false
      }
    },
    {
      "cell_type": "code",
      "source": [
        "df = load_data()\n",
        "urls = df.url\n",
        "\n",
        "urls_domain = []\n",
        "urls_counts = urls.value_counts()\n",
        "first100 = urls_counts[:10]\n",
        "for name, row in first100.items():\n",
        "    print(\"{0}: {1}\".format(name, row))"
      ],
      "outputs": [],
      "execution_count": null,
      "metadata": {
        "collapsed": false,
        "outputHidden": false,
        "inputHidden": false
      }
    }
  ],
  "metadata": {
    "kernelspec": {
      "name": "python2",
      "language": "python",
      "display_name": "Python 2"
    },
    "kernel_info": {
      "name": "python2"
    },
    "language_info": {
      "mimetype": "text/x-python",
      "nbconvert_exporter": "python",
      "name": "python",
      "pygments_lexer": "ipython2",
      "version": "2.7.12",
      "file_extension": ".py",
      "codemirror_mode": {
        "version": 2,
        "name": "ipython"
      }
    }
  },
  "nbformat": 4,
  "nbformat_minor": 4
}