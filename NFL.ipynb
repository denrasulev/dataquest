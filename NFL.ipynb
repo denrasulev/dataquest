{
  "cells": [
    {
      "cell_type": "markdown",
      "source": [
        "# NFL player suspensions\n",
        "### Training project for DataQuest course\n",
        "\n",
        "In this project, we'll be working with data on NFL player suspensions.\n",
        "\nThe [FiveThirtyEight](https://www.fivethirtyeight.com) team compiled the data set for a piece on domestic violence. You can download it [here](https://github.com/fivethirtyeight/data/blob/master/nfl-suspensions/nfl-suspensions-data.csv). The data set contains all domestic violence-related suspensions issued before 2014."
      ],
      "metadata": {}
    },
    {
      "cell_type": "code",
      "source": [
        "# get and view data\n",
        "import pprint\n",
        "import pandas as pd\n",
        "\n",
        "url = 'http://raw.githubusercontent.com/fivethirtyeight/data/master/nfl-suspensions/nfl-suspensions-data.csv'\n",
        "nfl_suspensions = pd.read_csv(url)\n",
        "nfl_suspensions[0:5]"
      ],
      "outputs": [
        {
          "output_type": "execute_result",
          "execution_count": 58,
          "data": {
            "text/plain": [
              "          name team   games                           category  \\\n",
              "0     F. Davis  WAS  Indef.  Substance abuse, repeated offense   \n",
              "1  J. Blackmon  JAX  Indef.  Substance abuse, repeated offense   \n",
              "2   L. Brazill  IND  Indef.  Substance abuse, repeated offense   \n",
              "3   T. Jackson  WAS  Indef.  Substance abuse, repeated offense   \n",
              "4     M. Hapes  NYG  Indef.                   Personal conduct   \n",
              "\n",
              "               desc.  year                                             source  \n",
              "0  Marijuana-related  2014  http://www.cbssports.com/nfl/eye-on-football/2...  \n",
              "1                NaN  2014  http://espn.go.com/nfl/story/_/id/11257934/jus...  \n",
              "2                NaN  2014  http://www.nfl.com/news/story/0ap2000000364622...  \n",
              "3                NaN  2014  http://www.nfl.com/news/story/0ap2000000364087...  \n",
              "4   Gambling-related  1946  http://espn.go.com/blog/nflnation/tag/_/name/f...  "
            ],
            "text/html": [
              "<div>\n",
              "<table border=\"1\" class=\"dataframe\">\n",
              "  <thead>\n",
              "    <tr style=\"text-align: right;\">\n",
              "      <th></th>\n",
              "      <th>name</th>\n",
              "      <th>team</th>\n",
              "      <th>games</th>\n",
              "      <th>category</th>\n",
              "      <th>desc.</th>\n",
              "      <th>year</th>\n",
              "      <th>source</th>\n",
              "    </tr>\n",
              "  </thead>\n",
              "  <tbody>\n",
              "    <tr>\n",
              "      <th>0</th>\n",
              "      <td>F. Davis</td>\n",
              "      <td>WAS</td>\n",
              "      <td>Indef.</td>\n",
              "      <td>Substance abuse, repeated offense</td>\n",
              "      <td>Marijuana-related</td>\n",
              "      <td>2014</td>\n",
              "      <td>http://www.cbssports.com/nfl/eye-on-football/2...</td>\n",
              "    </tr>\n",
              "    <tr>\n",
              "      <th>1</th>\n",
              "      <td>J. Blackmon</td>\n",
              "      <td>JAX</td>\n",
              "      <td>Indef.</td>\n",
              "      <td>Substance abuse, repeated offense</td>\n",
              "      <td>NaN</td>\n",
              "      <td>2014</td>\n",
              "      <td>http://espn.go.com/nfl/story/_/id/11257934/jus...</td>\n",
              "    </tr>\n",
              "    <tr>\n",
              "      <th>2</th>\n",
              "      <td>L. Brazill</td>\n",
              "      <td>IND</td>\n",
              "      <td>Indef.</td>\n",
              "      <td>Substance abuse, repeated offense</td>\n",
              "      <td>NaN</td>\n",
              "      <td>2014</td>\n",
              "      <td>http://www.nfl.com/news/story/0ap2000000364622...</td>\n",
              "    </tr>\n",
              "    <tr>\n",
              "      <th>3</th>\n",
              "      <td>T. Jackson</td>\n",
              "      <td>WAS</td>\n",
              "      <td>Indef.</td>\n",
              "      <td>Substance abuse, repeated offense</td>\n",
              "      <td>NaN</td>\n",
              "      <td>2014</td>\n",
              "      <td>http://www.nfl.com/news/story/0ap2000000364087...</td>\n",
              "    </tr>\n",
              "    <tr>\n",
              "      <th>4</th>\n",
              "      <td>M. Hapes</td>\n",
              "      <td>NYG</td>\n",
              "      <td>Indef.</td>\n",
              "      <td>Personal conduct</td>\n",
              "      <td>Gambling-related</td>\n",
              "      <td>1946</td>\n",
              "      <td>http://espn.go.com/blog/nflnation/tag/_/name/f...</td>\n",
              "    </tr>\n",
              "  </tbody>\n",
              "</table>\n",
              "</div>"
            ]
          },
          "metadata": {}
        }
      ],
      "execution_count": 58,
      "metadata": {
        "collapsed": false,
        "outputHidden": false,
        "inputHidden": false
      }
    },
    {
      "cell_type": "code",
      "source": [
        "# count number of suspensions by each year\n",
        "years = {}\n",
        "for each in nfl_suspensions['year']:\n",
        "    row_year = each\n",
        "    if row_year in years:\n",
        "        years[each] += 1\n",
        "    else:\n",
        "        years[each] = 1\n",
        "\n",
        "# print years and number of suspensions\n",
        "# for nice output use: pprint.pprint(years)\n",
        "print(years)"
      ],
      "outputs": [
        {
          "output_type": "stream",
          "name": "stdout",
          "text": [
            "{'1989': 17, '1986': 1, '1983': 1, '1946': 1, '1947': 1, '1963': 1, '2014': 29, '2011': 13, '2010': 21, '2013': 40, '2012': 45, '1990': 3, '1993': 1, '   ': 1, '1995': 1, '1994': 1, '1997': 3, '1999': 5, '1998': 2, '2002': 7, '2003': 9, '2000': 1, '2001': 3, '2006': 11, '2007': 17, '2004': 6, '2005': 8, '2008': 10, '2009': 10}\n"
          ]
        }
      ],
      "execution_count": 71,
      "metadata": {
        "collapsed": false,
        "outputHidden": false,
        "inputHidden": false
      }
    },
    {
      "cell_type": "code",
      "source": [
        "# let's find unique team names\n",
        "teams = [row for row in nfl_suspensions['team']]\n",
        "unique_teams = set(teams)\n",
        "print(unique_teams)"
      ],
      "outputs": [
        {
          "output_type": "stream",
          "name": "stdout",
          "text": [
            "set(['MIN', 'MIA', 'CAR', 'ATL', 'OAK', 'CIN', 'NYJ', 'DEN', 'BAL', 'NYG', 'TEN', 'NO', 'DAL', 'NE', 'SEA', 'CHI', 'TB', 'PIT', 'JAX', 'STL', 'DET', 'FREE', 'HOU', 'GB', 'WAS', 'KC', 'PHI', 'BUF', 'LA', 'CLE', 'IND', 'ARI', 'SF', 'SD'])\n"
          ]
        }
      ],
      "execution_count": 70,
      "metadata": {
        "collapsed": false,
        "outputHidden": false,
        "inputHidden": false
      }
    },
    {
      "cell_type": "code",
      "source": [
        "# let's create our own class 'Suspension' with four properties:\n",
        "# name, team, games, year. Year will be converted to Int and\n",
        "# if value is missing then it will be assigned 0.\n",
        "class Suspension():\n",
        "    def __init__(self,row):\n",
        "        self.name = row['name']\n",
        "        self.team = row['team']\n",
        "        self.game = row['games']\n",
        "        try:\n",
        "            self.year = int(row['year'])\n",
        "        except Exception:\n",
        "            self.year = 0\n",
        "            \n",
        "    def get_year(self):\n",
        "        return self.year\n",
        "\n",
        "# create instance with our class passing row 23 from our dataframe\n",
        "missing_year = Suspension(nfl_suspensions.iloc[[22]])\n",
        "# use our method to find year\n",
        "twenty_third_year = missing_year.get_year()\n",
        "\n",
        "# print found data\n",
        "print(type(missing_year))\n",
        "print(twenty_third_year)"
      ],
      "outputs": [
        {
          "output_type": "stream",
          "name": "stdout",
          "text": [
            "<type 'instance'>\n",
            "0\n"
          ]
        }
      ],
      "execution_count": 87,
      "metadata": {
        "collapsed": false,
        "outputHidden": false,
        "inputHidden": false
      }
    }
  ],
  "metadata": {
    "kernelspec": {
      "name": "python2",
      "language": "python",
      "display_name": "Python 2"
    },
    "kernel_info": {
      "name": "python2"
    },
    "language_info": {
      "mimetype": "text/x-python",
      "nbconvert_exporter": "python",
      "name": "python",
      "pygments_lexer": "ipython2",
      "version": "2.7.12",
      "file_extension": ".py",
      "codemirror_mode": {
        "version": 2,
        "name": "ipython"
      }
    }
  },
  "nbformat": 4,
  "nbformat_minor": 4
}