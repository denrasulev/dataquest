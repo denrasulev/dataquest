{
  "cells": [
    {
      "cell_type": "code",
      "source": [
        "# get data\n",
        "import urllib\n",
        "url = 'http://raw.githubusercontent.com/fivethirtyeight/guns-data/master/full_data.csv'\n",
        "urllib.urlretrieve (url, \"data/guns.csv\")\n",
        "\n",
        "import csv\n",
        "f = open(\"data/guns.csv\", \"r\")\n",
        "data = list(csv.reader(f))\n",
        "data[0:5]"
      ],
      "outputs": [
        {
          "output_type": "execute_result",
          "execution_count": 7,
          "data": {
            "text/plain": [
              "[['',\n",
              "  'year',\n",
              "  'month',\n",
              "  'intent',\n",
              "  'police',\n",
              "  'sex',\n",
              "  'age',\n",
              "  'race',\n",
              "  'hispanic',\n",
              "  'place',\n",
              "  'education'],\n",
              " ['1',\n",
              "  '2012',\n",
              "  '01',\n",
              "  'Suicide',\n",
              "  '0',\n",
              "  'M',\n",
              "  '34',\n",
              "  'Asian/Pacific Islander',\n",
              "  '100',\n",
              "  'Home',\n",
              "  '4'],\n",
              " ['2', '2012', '01', 'Suicide', '0', 'F', '21', 'White', '100', 'Street', '3'],\n",
              " ['3',\n",
              "  '2012',\n",
              "  '01',\n",
              "  'Suicide',\n",
              "  '0',\n",
              "  'M',\n",
              "  '60',\n",
              "  'White',\n",
              "  '100',\n",
              "  'Other specified',\n",
              "  '4'],\n",
              " ['4', '2012', '02', 'Suicide', '0', 'M', '64', 'White', '100', 'Home', '4']]"
            ]
          },
          "metadata": {}
        }
      ],
      "execution_count": 7,
      "metadata": {
        "collapsed": false,
        "outputHidden": false,
        "inputHidden": false
      }
    },
    {
      "cell_type": "code",
      "source": [
        "# remove header\n",
        "headers = data[0]\n",
        "data = data[1:]\n",
        "print(headers)\n",
        "data[0:5]"
      ],
      "outputs": [],
      "execution_count": null,
      "metadata": {
        "collapsed": false,
        "outputHidden": false,
        "inputHidden": false
      }
    },
    {
      "cell_type": "code",
      "source": [
        "# extract years from data\n",
        "years = [row[1] for row in data]\n",
        "\n",
        "# count number of deaths by every year\n",
        "year_counts = {}\n",
        "for year in years:\n",
        "    if year in year_counts:\n",
        "        year_counts[year] += 1\n",
        "    else:\n",
        "        year_counts[year] = 1\n",
        "        \n",
        "print(year_counts)"
      ],
      "outputs": [],
      "execution_count": null,
      "metadata": {
        "collapsed": false,
        "outputHidden": false,
        "inputHidden": false
      }
    },
    {
      "cell_type": "code",
      "source": [
        "# count Gun Deaths By Month And Year\n",
        "import datetime as dt\n",
        "import pprint\n",
        "dates = [dt.datetime(year=int(row[1]), month=int(row[2]), day=1) for row in data]\n",
        "dates[0:5]\n",
        "\n",
        "# count up how many times each unique date occurs\n",
        "date_counts = {}\n",
        "for date in dates:\n",
        "    if date in date_counts:\n",
        "        date_counts[date] += 1\n",
        "    else:\n",
        "        date_counts[date] = 1\n",
        "        \n",
        "pprint.pprint(date_counts)"
      ],
      "outputs": [],
      "execution_count": null,
      "metadata": {
        "collapsed": false,
        "outputHidden": false,
        "inputHidden": false
      }
    },
    {
      "cell_type": "code",
      "source": [
        "# count Gun Deaths By Race And Sex\n",
        "sex_counts = {}\n",
        "for row in data:\n",
        "    sex = row[5]\n",
        "    if sex in sex_counts:\n",
        "        sex_counts[sex] += 1\n",
        "    else:\n",
        "        sex_counts[sex] = 1\n",
        "        \n",
        "race_counts = {}\n",
        "for row in data:\n",
        "    race = row[7]\n",
        "    if race in race_counts:\n",
        "        race_counts[race] += 1\n",
        "    else:\n",
        "        race_counts[race] = 1\n",
        "        \n",
        "pprint.pprint(sex_counts) \n",
        "pprint.pprint(race_counts)"
      ],
      "outputs": [],
      "execution_count": null,
      "metadata": {
        "collapsed": false,
        "outputHidden": false,
        "inputHidden": false
      }
    },
    {
      "cell_type": "code",
      "source": [
        "# read in census data\n",
        "f = open(\"data/census.csv\", \"r\")\n",
        "census = list(csv.reader(f))\n",
        "pprint.pprint(census)"
      ],
      "outputs": [],
      "execution_count": null,
      "metadata": {
        "collapsed": false,
        "outputHidden": false,
        "inputHidden": false
      }
    },
    {
      "cell_type": "code",
      "source": [
        "# Computing Rates Of Gun Deaths Per Race\n",
        "mapping = {\"Asian/Pacific Islander\": int(census[1][14]) + int(census[1][15]),\n",
        "           \"Black\": int(census[1][12]),\n",
        "           \"Native American/Native Alaskan\": int(census[1][13]),\n",
        "           \"Hispanic\": int(census[1][11]),\n",
        "           \"White\": int(census[1][10])\n",
        "          }\n",
        "\n",
        "race_per_hundredk = {}\n",
        "\n",
        "for row in race_counts:\n",
        "    race_per_hundredk[row] = round(race_counts[row] / mapping[row] * 100000, 2)\n",
        "\npprint.pprint(race_per_hundredk)"
      ],
      "outputs": [],
      "execution_count": null,
      "metadata": {
        "collapsed": false,
        "outputHidden": false,
        "inputHidden": false
      }
    },
    {
      "cell_type": "code",
      "source": [
        "# Filtering By Intent\n",
        "intents = [row[3] for row in data]\n",
        "races   = [row[7] for row in data]\n",
        "\n",
        "homicide_race_per_hundredk = {}\n",
        "\n",
        "for i,race in enumerate(races):\n",
        "    if intents[i] == \"Homicide\":\n",
        "        if race in homicide_race_per_hundredk:\n",
        "            homicide_race_per_hundredk[race] += 1\n",
        "        else:\n",
        "            homicide_race_per_hundredk[race] = 1\n",
        "\n",
        "for row in race_counts:\n",
        "    homicide_race_per_hundredk[row] = round(homicide_race_per_hundredk[row] / mapping[row] * 100000, 2)\n",
        "\npprint.pprint(homicide_race_per_hundredk)  "
      ],
      "outputs": [],
      "execution_count": null,
      "metadata": {
        "collapsed": false,
        "outputHidden": false,
        "inputHidden": false
      }
    },
    {
      "cell_type": "markdown",
      "source": [
        "**Conclusion**\n",
        "\n",
        "You can see number of homicide gun deaths per race.\n",
        "\n",
        "This concludes the project.\n",
        "\n",
        "**Future possible plans for the project**\n",
        "\n",
        "- Update links to real ones or update code to download data to work directory\n",
        "- Clean up the code\n",
        "- Add plots\n",
        "\n",
        "*Also*\n",
        "- Figure out the link, if any, between month and homicide rate.\n",
        "- Explore the homicide rate by gender.\n",
        "- Explore the rates of other intents, like Accidental, by gender and race.\n",
        "- Find out if gun death rates correlate to location and education."
      ],
      "metadata": {}
    }
  ],
  "metadata": {
    "kernelspec": {
      "name": "python2",
      "language": "python",
      "display_name": "Python 2"
    },
    "kernel_info": {
      "name": "python2"
    },
    "language_info": {
      "mimetype": "text/x-python",
      "nbconvert_exporter": "python",
      "name": "python",
      "pygments_lexer": "ipython2",
      "version": "2.7.12",
      "file_extension": ".py",
      "codemirror_mode": {
        "version": 2,
        "name": "ipython"
      }
    }
  },
  "nbformat": 4,
  "nbformat_minor": 4
}